{
 "cells": [
  {
   "cell_type": "code",
   "execution_count": 1,
   "id": "9682f219",
   "metadata": {},
   "outputs": [
    {
     "name": "stdout",
     "output_type": "stream",
     "text": [
      "True\n",
      "False\n"
     ]
    }
   ],
   "source": [
    "\"\"\"\n",
    "<aside>\n",
    "💡 **Question 1**\n",
    "\n",
    "Given an integer `n`, return *`true` if it is a power of three. Otherwise, return `false`*.\n",
    "\n",
    "An integer `n` is a power of three, if there exists an integer `x` such that `n == 3x`.\n",
    "\n",
    "**Example 1:**\n",
    "\n",
    "```\n",
    "Input: n = 27\n",
    "Output: true\n",
    "Explanation: 27 = 33\n",
    "```\n",
    "\n",
    "**Example 2:**\n",
    "\n",
    "```\n",
    "Input: n = 0\n",
    "Output: false\n",
    "Explanation: There is no x where 3x = 0.\n",
    "\n",
    "```\n",
    "\n",
    "**Example 3:**\n",
    "\n",
    "</aside>\n",
    "\"\"\"\n",
    "\n",
    "def isPowerOfThree(n):\n",
    "    if n <= 0:\n",
    "        return False\n",
    "\n",
    "    while n % 3 == 0:\n",
    "        n //= 3\n",
    "\n",
    "    return n == 1\n",
    "\n",
    "# Example \n",
    "print(isPowerOfThree(27))  \n",
    "print(isPowerOfThree(0))   \n"
   ]
  },
  {
   "cell_type": "code",
   "execution_count": 2,
   "id": "0e3c306c",
   "metadata": {},
   "outputs": [
    {
     "name": "stdout",
     "output_type": "stream",
     "text": [
      "9\n"
     ]
    }
   ],
   "source": [
    "\"\"\"\n",
    "<aside>\n",
    "💡 **Question 2**\n",
    "\n",
    "You have a list `arr` of all integers in the range `[1, n]` sorted in a strictly increasing order. Apply the following algorithm on `arr`:\n",
    "\n",
    "- Starting from left to right, remove the first number and every other number afterward until you reach the end of the list.\n",
    "- Repeat the previous step again, but this time from right to left, remove the rightmost number and every other number from the remaining numbers.\n",
    "- Keep repeating the steps again, alternating left to right and right to left, until a single number remains.\n",
    "\n",
    "Given the integer `n`, return *the last number that remains in* `arr`.\n",
    "\n",
    "**Example 1:**\n",
    "\n",
    "```\n",
    "Input: n = 9\n",
    "Output: 6\n",
    "Explanation:\n",
    "arr = [1, 2,3, 4,5, 6,7, 8,9]\n",
    "arr = [2,4, 6,8]\n",
    "arr = [2, 6]\n",
    "arr = [6]\n",
    "\n",
    "```\n",
    "\n",
    "\"\"\"\n",
    "\n",
    "def lastRemaining(n):\n",
    "    if n == 1:\n",
    "        return 1\n",
    "    if n % 2 == 0:\n",
    "        return 2 * lastRemaining(n // 2)\n",
    "    else:\n",
    "        return 2 * lastRemaining(n // 2) + 1\n",
    "\n",
    "# Example \n",
    "print(lastRemaining(9)) \n"
   ]
  },
  {
   "cell_type": "code",
   "execution_count": 3,
   "id": "57b50510",
   "metadata": {},
   "outputs": [
    {
     "name": "stdout",
     "output_type": "stream",
     "text": [
      "Subsets of abc are: ['', 'c', 'b', 'bc', 'a', 'ac', 'ab', 'abc']\n",
      "Subsets of abcd are: ['', 'd', 'c', 'cd', 'b', 'bd', 'bc', 'bcd', 'a', 'ad', 'ac', 'acd', 'ab', 'abd', 'abc', 'abcd']\n"
     ]
    }
   ],
   "source": [
    "\"\"\"\n",
    "<aside>\n",
    "💡 **Question 3**\n",
    "\n",
    "****Given a set represented as a string, write a recursive code to print all subsets of it. The subsets can be printed in any order.\n",
    "\n",
    "**Example 1:**\n",
    "\n",
    "Input :  set = “abc”\n",
    "\n",
    "Output : { “”, “a”, “b”, “c”, “ab”, “ac”, “bc”, “abc”}\n",
    "\n",
    "**Example 2:**\n",
    "\n",
    "Input : set = “abcd”\n",
    "\n",
    "Output : { “”, “a” ,”ab” ,”abc” ,”abcd”, “abd” ,”ac” ,”acd”, “ad” ,”b”, “bc” ,”bcd” ,”bd” ,”c” ,”cd” ,”d” }\n",
    "\n",
    "</aside>\n",
    "\"\"\"\n",
    "\n",
    "def subsets(string):\n",
    "    def generate_subsets(current_subset, index):\n",
    "        if index == len(string):\n",
    "            subsets.append(current_subset)\n",
    "            return\n",
    "        generate_subsets(current_subset, index + 1)\n",
    "        generate_subsets(current_subset + string[index], index + 1)\n",
    "\n",
    "    subsets = []\n",
    "    generate_subsets(\"\", 0)\n",
    "    return subsets\n",
    "\n",
    "# Example\n",
    "set1 = \"abc\"\n",
    "print(\"Subsets of\", set1, \"are:\", subsets(set1))\n",
    "\n",
    "set2 = \"abcd\"\n",
    "print(\"Subsets of\", set2, \"are:\", subsets(set2))\n"
   ]
  },
  {
   "cell_type": "code",
   "execution_count": 4,
   "id": "74899d71",
   "metadata": {},
   "outputs": [
    {
     "name": "stdout",
     "output_type": "stream",
     "text": [
      "Length of string Hello is: 5\n",
      "Length of string Recursion is: 9\n"
     ]
    }
   ],
   "source": [
    "\"\"\"\n",
    "<aside>\n",
    "💡 **Question 4**\n",
    "\n",
    "Given a string calculate length of the string using recursion.\n",
    "\n",
    "**Examples:**\n",
    "\n",
    "</aside>\n",
    "\"\"\"\n",
    "\n",
    "def calculate_length(string):\n",
    "    if string == \"\":\n",
    "        return 0\n",
    "    return 1 + calculate_length(string[1:])\n",
    "\n",
    "# Example\n",
    "string1 = \"Hello\"\n",
    "length1 = calculate_length(string1)\n",
    "print(\"Length of string\", string1, \"is:\", length1)\n",
    "\n",
    "string2 = \"Recursion\"\n",
    "length2 = calculate_length(string2)\n",
    "print(\"Length of string\", string2, \"is:\", length2)\n"
   ]
  },
  {
   "cell_type": "code",
   "execution_count": 5,
   "id": "58081213",
   "metadata": {},
   "outputs": [
    {
     "name": "stdout",
     "output_type": "stream",
     "text": [
      "Count of contiguous substrings in abcab is: 5\n",
      "Count of contiguous substrings in aba is: 3\n"
     ]
    }
   ],
   "source": [
    "\"\"\"\n",
    "Question 5\n",
    "e are given a string S, we need to find count of all contiguous substrings starting and ending with same character.\n",
    "\n",
    "**Examples :**\n",
    "\"\"\"\n",
    "\n",
    "def count_substrings(string):\n",
    "    count = 0\n",
    "    n = len(string)\n",
    "\n",
    "    for i in range(n):\n",
    "       \n",
    "        count += 1\n",
    "\n",
    "        \n",
    "        j = i + 1\n",
    "        while j < n and string[i] == string[j]:\n",
    "            count += 1\n",
    "            j += 1\n",
    "\n",
    "    return count\n",
    "\n",
    "# Example \n",
    "string1 = \"abcab\"\n",
    "count1 = count_substrings(string1)\n",
    "print(\"Count of contiguous substrings in\", string1, \"is:\", count1)\n",
    "\n",
    "string2 = \"aba\"\n",
    "count2 = count_substrings(string2)\n",
    "print(\"Count of contiguous substrings in\", string2, \"is:\", count2)\n",
    "\n"
   ]
  },
  {
   "cell_type": "code",
   "execution_count": 6,
   "id": "9fdd2a96",
   "metadata": {},
   "outputs": [
    {
     "name": "stdout",
     "output_type": "stream",
     "text": [
      "move disk 1 from rod 1 to rod 2\n",
      "move disk 2 from rod 1 to rod 3\n",
      "move disk 1 from rod 2 to rod 3\n",
      "Total moves: 3\n"
     ]
    }
   ],
   "source": [
    "\"\"\"\n",
    "The tower of Hanoi is a famous puzzle where we have three rods and N disks. The objective of the puzzle is to move the entire stack to another rod. You are given the number of discs N. Initially, these discs are in the rod 1. You need to print all the steps of discs movement so that all the discs reach the 3rd rod. Also, you need to find the total moves.Note: The discs are arranged such that the top disc is numbered 1 and the bottom-most disc is numbered N. Also, all the discs have different sizes and a bigger disc cannot be put on the top of a smaller disc. Refer the provided link to get a better clarity about the puzzle.\n",
    "\"\"\"\n",
    "\n",
    "\n",
    "def tower_of_hanoi(n, source, destination, auxiliary):\n",
    "    if n == 1:\n",
    "        print(\"move disk 1 from rod\", source, \"to rod\", destination)\n",
    "        return 1\n",
    "\n",
    "    moves = 0\n",
    "    moves += tower_of_hanoi(n-1, source, auxiliary, destination)\n",
    "    print(\"move disk\", n, \"from rod\", source, \"to rod\", destination)\n",
    "    moves += 1\n",
    "    moves += tower_of_hanoi(n-1, auxiliary, destination, source)\n",
    "\n",
    "    return moves\n",
    "\n",
    "# Example \n",
    "N = 2\n",
    "total_moves = tower_of_hanoi(N, 1, 3, 2)\n",
    "print(\"Total moves:\", total_moves)\n"
   ]
  },
  {
   "cell_type": "code",
   "execution_count": 7,
   "id": "3811d189",
   "metadata": {},
   "outputs": [
    {
     "name": "stdout",
     "output_type": "stream",
     "text": [
      "Permutations of cd: ['cd', 'dc']\n",
      "Permutations of abb: ['cd', 'dc', 'abb', 'abb', 'bab', 'bba', 'bab', 'bba']\n"
     ]
    }
   ],
   "source": [
    "\"\"\"\n",
    "Question 7\n",
    "\n",
    "Given a string **str**, the task is to print all the permutations of **str**. A **permutation** is an arrangement of all or part of a set of objects, with regard to the order of the arrangement. For instance, the words ‘bat’ and ‘tab’ represents two distinct permutation (or arrangements) of a similar three letter word.\n",
    "\n",
    "**Examples:**\n",
    "\n",
    "> Input: str = “cd”\n",
    "> \n",
    "> \n",
    "> **Output:** cd dc\n",
    "> \n",
    "> **Input:** str = “abb”\n",
    "> \n",
    "> **Output:** abb abb bab bba bab bba\n",
    ">\n",
    "\"\"\"\n",
    "\n",
    "def permute_string(string, current=\"\", result=[]):\n",
    "    if len(string) == 0:\n",
    "        result.append(current)\n",
    "        return\n",
    "\n",
    "    for i in range(len(string)):\n",
    "        char = string[i]\n",
    "        remaining = string[:i] + string[i+1:]\n",
    "        permute_string(remaining, current + char, result)\n",
    "\n",
    "    return result\n",
    "\n",
    "# Example \n",
    "string1 = \"cd\"\n",
    "permutations1 = permute_string(string1)\n",
    "print(\"Permutations of\", string1 + \":\", permutations1)\n",
    "\n",
    "string2 = \"abb\"\n",
    "permutations2 = permute_string(string2)\n",
    "print(\"Permutations of\", string2 + \":\", permutations2)\n"
   ]
  },
  {
   "cell_type": "code",
   "execution_count": 9,
   "id": "a360f4d1",
   "metadata": {},
   "outputs": [
    {
     "name": "stdout",
     "output_type": "stream",
     "text": [
      "Number of consonants in abc de: 3\n",
      "Number of consonants in geeksforgeeks portal: 12\n"
     ]
    }
   ],
   "source": [
    "\"\"\"\n",
    "<aside>\n",
    "💡 **Question 8**\n",
    "\n",
    "Given a string, count total number of consonants in it. A consonant is an English alphabet character that is not vowel (a, e, i, o and u). Examples of constants are b, c, d, f, and g.\n",
    "\n",
    "**Examples :**\n",
    "\n",
    "</aside>\n",
    "\"\"\"\n",
    "def count_consonants(string):\n",
    "    consonants = \"bcdfghjklmnpqrstvwxyzBCDFGHJKLMNPQRSTVWXYZ\"\n",
    "    count = 0\n",
    "    for char in string:\n",
    "        if char in consonants:\n",
    "            count += 1\n",
    "    return count\n",
    "\n",
    "# Example \n",
    "string1 = \"abc de\"\n",
    "consonant_count1 = count_consonants(string1)\n",
    "print(\"Number of consonants in\", string1 + \":\", consonant_count1)\n",
    "\n",
    "string2 = \"geeksforgeeks portal\"\n",
    "consonant_count2 = count_consonants(string2)\n",
    "print(\"Number of consonants in\", string2 + \":\", consonant_count2)\n",
    "\n"
   ]
  },
  {
   "cell_type": "code",
   "execution_count": null,
   "id": "f07d52e1",
   "metadata": {},
   "outputs": [],
   "source": []
  }
 ],
 "metadata": {
  "kernelspec": {
   "display_name": "Python 3 (ipykernel)",
   "language": "python",
   "name": "python3"
  },
  "language_info": {
   "codemirror_mode": {
    "name": "ipython",
    "version": 3
   },
   "file_extension": ".py",
   "mimetype": "text/x-python",
   "name": "python",
   "nbconvert_exporter": "python",
   "pygments_lexer": "ipython3",
   "version": "3.9.13"
  }
 },
 "nbformat": 4,
 "nbformat_minor": 5
}
