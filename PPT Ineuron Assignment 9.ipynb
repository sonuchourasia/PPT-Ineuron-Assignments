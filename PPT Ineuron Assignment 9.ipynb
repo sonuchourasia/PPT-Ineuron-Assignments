{
 "cells": [
  {
   "cell_type": "code",
   "execution_count": 1,
   "id": "e2ee3609",
   "metadata": {},
   "outputs": [
    {
     "name": "stdout",
     "output_type": "stream",
     "text": [
      "True\n",
      "True\n",
      "False\n"
     ]
    }
   ],
   "source": [
    "\"\"\"\n",
    "<aside>\n",
    "💡 **Question 1**\n",
    "\n",
    "Given an integer `n`, return *`true` if it is a power of two. Otherwise, return `false`*.\n",
    "\n",
    "An integer `n` is a power of two, if there exists an integer `x` such that `n == 2x`.\n",
    "\n",
    "**Example 1:**\n",
    "Input: n = 1 \n",
    "\n",
    "Output: true\n",
    "\n",
    "**Example 2:**\n",
    "Input: n = 16 \n",
    "\n",
    "Output: true\n",
    "\n",
    "**Example 3:**\n",
    "Input: n = 3 \n",
    "\n",
    "Output: false\n",
    "\n",
    "</aside>\n",
    "\"\"\"\n",
    "\n",
    "def isPowerOfTwo(n):\n",
    "    if n <= 0:\n",
    "        return False\n",
    "\n",
    "    return (n & (n - 1)) == 0\n",
    "\n",
    "# Test the function with the given examples\n",
    "n = 1\n",
    "result = isPowerOfTwo(n)\n",
    "print(result)  \n",
    "\n",
    "n = 16\n",
    "result = isPowerOfTwo(n)\n",
    "print(result)  \n",
    "\n",
    "n = 3\n",
    "result = isPowerOfTwo(n)\n",
    "print(result)  \n"
   ]
  },
  {
   "cell_type": "code",
   "execution_count": 5,
   "id": "bc1260cd",
   "metadata": {},
   "outputs": [
    {
     "name": "stdout",
     "output_type": "stream",
     "text": [
      "Enter a number: 5\n",
      "15\n"
     ]
    }
   ],
   "source": [
    "\"\"\"\n",
    "Q-2\n",
    "Given a number n, find the sum of the first natural numbers.\n",
    "\n",
    "**Example 1:**\n",
    "\n",
    "Input: n = 3 \n",
    "\n",
    "Output: 6\n",
    "\n",
    "**Example 2:**\n",
    "\n",
    "Input  : 5 \n",
    "\n",
    "Output : 15\n",
    "\"\"\"\n",
    "\n",
    "def sumOfNaturalNumbers(n):\n",
    "    return (n * (n + 1)) // 2\n",
    "\n",
    "n = int(input(\"Enter a number: \"))\n",
    "\n",
    "\n",
    "result = sumOfNaturalNumbers(n)\n",
    "\n",
    "\n",
    "print(result)\n"
   ]
  },
  {
   "cell_type": "code",
   "execution_count": 6,
   "id": "0cdda689",
   "metadata": {},
   "outputs": [
    {
     "name": "stdout",
     "output_type": "stream",
     "text": [
      "Enter a positive integer: 4\n",
      "24\n"
     ]
    }
   ],
   "source": [
    "\"\"\"\n",
    "Q-3\n",
    "Given a positive integer, N. Find the factorial of N. \n",
    "\n",
    "**Example 1:**\n",
    "\n",
    "Input: N = 5 \n",
    "\n",
    "Output: 120\n",
    "\n",
    "**Example 2:**\n",
    "\n",
    "Input: N = 4\n",
    "\n",
    "Output: 24\n",
    "\"\"\"\n",
    "\n",
    "def factorial(N):\n",
    "    result = 1\n",
    "    for i in range(1, N + 1):\n",
    "        result *= i\n",
    "    return result\n",
    "\n",
    "N = int(input(\"Enter a positive integer: \"))\n",
    "\n",
    "\n",
    "result = factorial(N)\n",
    "\n",
    "\n",
    "print(result)\n"
   ]
  },
  {
   "cell_type": "code",
   "execution_count": 8,
   "id": "ba22482b",
   "metadata": {},
   "outputs": [
    {
     "name": "stdout",
     "output_type": "stream",
     "text": [
      "25\n",
      "32\n"
     ]
    }
   ],
   "source": [
    "\"\"\"\n",
    "<aside>\n",
    "💡 **Question 4**\n",
    "\n",
    "Given a number N and a power P, the task is to find the exponent of this number raised to the given power, i.e. N^P.\n",
    "\n",
    "**Example 1 :** \n",
    "\n",
    "Input: N = 5, P = 2\n",
    "\n",
    "Output: 25\n",
    "\n",
    "**Example 2 :**\n",
    "Input: N = 2, P = 5\n",
    "\n",
    "Output: 32\n",
    "\n",
    "</aside>\n",
    "\"\"\"\n",
    "\n",
    "def calExponent(N, P):\n",
    "    result = N ** P\n",
    "    return result\n",
    "\n",
    "\n",
    "N = 5\n",
    "P = 2\n",
    "result = calExponent(N, P)\n",
    "print(result)  \n",
    "\n",
    "N = 2\n",
    "P = 5\n",
    "result = calExponent(N, P)\n",
    "print(result)  \n"
   ]
  },
  {
   "cell_type": "code",
   "execution_count": 9,
   "id": "6039f006",
   "metadata": {},
   "outputs": [
    {
     "name": "stdout",
     "output_type": "stream",
     "text": [
      "8\n",
      "45\n"
     ]
    }
   ],
   "source": [
    "\"\"\"\n",
    "<aside>\n",
    "💡 **Question 5**\n",
    "\n",
    "Given an array of integers **arr**, the task is to find maximum element of that array using recursion.\n",
    "\n",
    "**Example 1:**\n",
    "\n",
    "Input: arr = {1, 4, 3, -5, -4, 8, 6};\n",
    "Output: 8\n",
    "\n",
    "**Example 2:**\n",
    "\n",
    "Input: arr = {1, 4, 45, 6, 10, -8};\n",
    "Output: 45\n",
    "\n",
    "</aside>\n",
    "\"\"\"\n",
    "\n",
    "def findMax(arr, n):\n",
    "   \n",
    "    if n == 1:\n",
    "        return arr[0]\n",
    "    \n",
    "    max_value = findMax(arr, n - 1)\n",
    "    return max(max_value, arr[n - 1])\n",
    "\n",
    "arr = [1, 4, 3, -5, -4, 8, 6]\n",
    "result = findMax(arr, len(arr))\n",
    "print(result)  \n",
    "\n",
    "arr = [1, 4, 45, 6, 10, -8]\n",
    "result = findMax(arr, len(arr))\n",
    "print(result)  \n"
   ]
  },
  {
   "cell_type": "code",
   "execution_count": 10,
   "id": "91483267",
   "metadata": {},
   "outputs": [
    {
     "name": "stdout",
     "output_type": "stream",
     "text": [
      "The 5 th term of the series is: 6\n"
     ]
    }
   ],
   "source": [
    "\"\"\"\n",
    "<aside>\n",
    "💡 **Question 6**\n",
    "\n",
    "Given first term (a), common difference (d) and a integer N of the Arithmetic Progression series, the task is to find Nth term of the series.\n",
    "\n",
    "**Example 1:**\n",
    "\n",
    "Input : a = 2 d = 1 N = 5\n",
    "Output : 6\n",
    "The 5th term of the series is : 6\n",
    "\n",
    "**Example 2:**\n",
    "\n",
    "Input : a = 5 d = 2 N = 10\n",
    "Output : 23\n",
    "The 10th term of the series is : 23\n",
    "\n",
    "</aside>\n",
    "\"\"\"\n",
    "\n",
    "def find_nth_term(a, d, N):\n",
    "    nth_term = a + (N - 1) * d\n",
    "    return nth_term\n",
    "\n",
    "# Example \n",
    "a = 2\n",
    "d = 1\n",
    "N = 5\n",
    "nth_term = find_nth_term(a, d, N)\n",
    "print(\"The\", N, \"th term of the series is:\", nth_term)\n"
   ]
  },
  {
   "cell_type": "code",
   "execution_count": 11,
   "id": "865f47ae",
   "metadata": {},
   "outputs": [
    {
     "name": "stdout",
     "output_type": "stream",
     "text": [
      "Permutations of ABC are:\n",
      "ABC\n",
      "ACB\n",
      "BAC\n",
      "BCA\n",
      "CBA\n",
      "CAB\n",
      "Permutations of XY are:\n",
      "XY\n",
      "YX\n"
     ]
    }
   ],
   "source": [
    "\"\"\"\n",
    "<aside>\n",
    "💡 **Question 7**\n",
    "\n",
    "Given a string S, the task is to write a program to print all permutations of a given string.\n",
    "\n",
    "**Example 1:**\n",
    "\n",
    "***Input:***\n",
    "\n",
    "*S = “ABC”*\n",
    "\n",
    "***Output:***\n",
    "\n",
    "*“ABC”, “ACB”, “BAC”, “BCA”, “CBA”, “CAB”*\n",
    "\n",
    "**Example 2:**\n",
    "\n",
    "***Input:***\n",
    "\n",
    "*S = “XY”*\n",
    "\n",
    "***Output:***\n",
    "\n",
    "*“XY”, “YX”*\n",
    "\n",
    "</aside>\n",
    "\"\"\"\n",
    "\n",
    "\n",
    "def permutations(string):\n",
    "    chars = list(string)\n",
    "    def generate_permutations(current_index):\n",
    "   \n",
    "        if current_index == len(chars) - 1:\n",
    "            print(\"\".join(chars))\n",
    "            return\n",
    "        for i in range(current_index, len(chars)):\n",
    "          \n",
    "            chars[current_index], chars[i] = chars[i], chars[current_index]\n",
    "\n",
    "            generate_permutations(current_index + 1)\n",
    "\n",
    "            chars[current_index], chars[i] = chars[i], chars[current_index]\n",
    "\n",
    "    generate_permutations(0)\n",
    "\n",
    "# Example \n",
    "S = \"ABC\"\n",
    "print(\"Permutations of\", S, \"are:\")\n",
    "permutations(S)\n",
    "\n",
    "S = \"XY\"\n",
    "print(\"Permutations of\", S, \"are:\")\n",
    "permutations(S)\n"
   ]
  },
  {
   "cell_type": "code",
   "execution_count": 12,
   "id": "ea0cddaf",
   "metadata": {},
   "outputs": [
    {
     "name": "stdout",
     "output_type": "stream",
     "text": [
      "Product of array [1, 2, 3, 4, 5] is: 120\n",
      "Product of array [1, 6, 3] is: 18\n"
     ]
    }
   ],
   "source": [
    "\"\"\"\n",
    "<aside>\n",
    "💡 **Question 8**\n",
    "\n",
    "Given an array, find a product of all array elements.\n",
    "\n",
    "**Example 1:**\n",
    "\n",
    "Input  : arr[] = {1, 2, 3, 4, 5}\n",
    "Output : 120\n",
    "**Example 2:**\n",
    "\n",
    "Input  : arr[] = {1, 6, 3}\n",
    "Output : 18\n",
    "\n",
    "</aside>\n",
    "\"\"\"\n",
    "def array_product(arr):\n",
    "    product = 1\n",
    "    for num in arr:\n",
    "        product *= num\n",
    "    return product\n",
    "\n",
    "# Example\n",
    "arr1 = [1, 2, 3, 4, 5]\n",
    "product1 = array_product(arr1)\n",
    "print(\"Product of array\", arr1, \"is:\", product1)\n",
    "\n",
    "arr2 = [1, 6, 3]\n",
    "product2 = array_product(arr2)\n",
    "print(\"Product of array\", arr2, \"is:\", product2)\n",
    "\n"
   ]
  },
  {
   "cell_type": "code",
   "execution_count": null,
   "id": "40613def",
   "metadata": {},
   "outputs": [],
   "source": []
  }
 ],
 "metadata": {
  "kernelspec": {
   "display_name": "Python 3 (ipykernel)",
   "language": "python",
   "name": "python3"
  },
  "language_info": {
   "codemirror_mode": {
    "name": "ipython",
    "version": 3
   },
   "file_extension": ".py",
   "mimetype": "text/x-python",
   "name": "python",
   "nbconvert_exporter": "python",
   "pygments_lexer": "ipython3",
   "version": "3.9.13"
  }
 },
 "nbformat": 4,
 "nbformat_minor": 5
}
